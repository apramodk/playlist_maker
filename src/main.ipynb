{
 "cells": [
  {
   "cell_type": "code",
   "execution_count": null,
   "metadata": {},
   "outputs": [],
   "source": [
    "# imports\n",
    "import os\n",
    "from dotenv import load_dotenv\n",
    "import base64\n",
    "from requests import post, get\n",
    "import json\n",
    "from requests_oauthlib import OAuth2Session"
   ]
  },
  {
   "cell_type": "code",
   "execution_count": null,
   "metadata": {},
   "outputs": [],
   "source": [
    "load_dotenv()\n",
    "client_id = os.getenv(\"CLIENT_ID\")\n",
    "client_secret = os.getenv(\"CLIENT_SECRET\")\n",
    "redirect_uri = 'http://localhost:3000'"
   ]
  },
  {
   "cell_type": "code",
   "execution_count": null,
   "metadata": {},
   "outputs": [],
   "source": [
    "def get_token():\n",
    "    auth_str = client_id + \":\" + client_secret\n",
    "    auth_bytes = auth_str.encode(\"utf-8\")\n",
    "    auth_base64 = str(base64.b64encode(auth_bytes), \"utf-8\")\n",
    "\n",
    "    url = \"https://accounts.spotify.com/api/token\"\n",
    "    headers = {\n",
    "        \"Authorization\": \"Basic \" + auth_base64,\n",
    "        \"Content-Type\": \"application/x-www-form-urlencoded\"\n",
    "    }\n",
    "\n",
    "    data = {\"grant_type\": \"client_credentials\"}\n",
    "    result = post(url, headers=headers, data=data)\n",
    "    json_result = json.loads(result.content)\n",
    "    \n",
    "    json_formatted_str = json.dumps(json_result, indent=2)\n",
    "    # print(json_formatted_str)\n",
    "\n",
    "    token = json_result[\"access_token\"]\n",
    "    print(token)\n",
    "    return token"
   ]
  },
  {
   "cell_type": "code",
   "execution_count": null,
   "metadata": {},
   "outputs": [],
   "source": [
    "# gets access to client token\n",
    "def get_client():\n",
    "    token = get_token()\n",
    "    scope = \"\"\n",
    "\n",
    "    spotify = OAuth2Session(client_id, scope=scope, redirect_uri=redirect_uri)\n",
    "\n",
    "    # Redirect user to Spotify for authorization\n",
    "    authorization_url, state = spotify.authorization_url(authorization_base_url)\n",
    "    print('Please go here and authorize: ', authorization_url)\n",
    "\n",
    "    # Get the authorization verifier code from the callback url\n",
    "    redirect_response = input('\\n\\nPaste the full redirect URL here: ')\n",
    "    from requests.auth import HTTPBasicAuth\n",
    "    auth = HTTPBasicAuth(client_id, client_secret)\n",
    "\n",
    "    # Fetch the access token\n",
    "    token = spotify.fetch_token(token_url, auth=auth,\n",
    "    authorization_response=redirect_response)\n",
    "    print(token)\n",
    "\n",
    "    # Fetch a protected resource, i.e. user profile\n",
    "    r = spotify.get('https://api.spotify.com/v1/me')\n",
    "    print(r.content)"
   ]
  }
 ],
 "metadata": {
  "language_info": {
   "name": "python"
  },
  "orig_nbformat": 4
 },
 "nbformat": 4,
 "nbformat_minor": 2
}
